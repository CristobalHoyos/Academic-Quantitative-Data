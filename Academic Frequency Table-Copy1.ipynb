{
 "cells": [
  {
   "cell_type": "code",
   "execution_count": 83,
   "id": "f7be8183",
   "metadata": {},
   "outputs": [
    {
     "name": "stdout",
     "output_type": "stream",
     "text": [
      "         xxx Grade Gradenum  Class FinalGrade GradeEquiv            BMmean  \\\n",
      "0   5.100913     B        3      2   86.43719          B           84.0625   \n",
      "1  10.132201     B        3      1  84.752914          B  82.0833333333333   \n",
      "2  31.005812     B        3      1  83.157295          B  80.2083333333333   \n",
      "3  35.848739     A        4      1   92.02187          A            90.625   \n",
      "4  75.124837     C        2      2  75.888336          C  71.6666666666667   \n",
      "\n",
      "  WAmean     Sex MeanEd3  ...            bm21_3            bm22_3  \\\n",
      "0    100  female       3  ...  83.3333333333333  70.8333333333333   \n",
      "1    100    male       1  ...  79.1666666666667  79.1666666666667   \n",
      "2    100    male       2  ...  54.1666666666667  58.3333333333333   \n",
      "3    100  female       1  ...  83.3333333333333                75   \n",
      "4    100  female       2  ...              62.5                50   \n",
      "\n",
      "             bm23_3            bm24_3            bm25_3            bm26_3  \\\n",
      "0  70.8333333333333              62.5  70.8333333333333  83.3333333333333   \n",
      "1  79.1666666666667  79.1666666666667  83.3333333333333              87.5   \n",
      "2  70.8333333333333  79.1666666666667  83.3333333333333  79.1666666666667   \n",
      "3  83.3333333333333  91.6666666666667               100  95.8333333333333   \n",
      "4  58.3333333333333  70.8333333333333  79.1666666666667  70.8333333333333   \n",
      "\n",
      "   CCYYS CURRGPA NEXTGPA   NonpsychCurrGPA  \n",
      "0  20119  3.2500  3.5555  3.33333333333333  \n",
      "1  20119  2.7938  2.3754  2.72506666666667  \n",
      "2  20119  3.1546  3.0351  3.20613333333333  \n",
      "3  20119  3.9340     3.9             3.912  \n",
      "4  20119  2.8750  2.8973  3.16666666666667  \n",
      "\n",
      "[5 rows x 70 columns]\n"
     ]
    }
   ],
   "source": [
    "#Importing libraries\n",
    "#Link for table: https://osf.io/b3tfn\n",
    "import pandas as pd\n",
    "import matplotlib\n",
    "\n",
    "file = \"Stripped_Master2011.csv\"\n",
    "df = pd.read_csv(file) \n",
    "print(df.head())\n"
   ]
  },
  {
   "cell_type": "code",
   "execution_count": 84,
   "id": "aace5054",
   "metadata": {},
   "outputs": [
    {
     "name": "stdout",
     "output_type": "stream",
     "text": [
      "['xxx', 'Grade', 'Gradenum', 'Class', 'FinalGrade', 'GradeEquiv', 'BMmean', 'WAmean', 'Sex', 'MeanEd3', 'BM2', 'BM3', 'BM4', 'BM5', 'BM6', 'BM7', 'BM8', 'BM9', 'BM10', 'BM11', 'BM12', 'BM13', 'BM14', 'BM15', 'BM16', 'BM17', 'BM18', 'BM19', 'BM20', 'BM21', 'BM22', 'BM23', 'BM24', 'BM25', 'BM26', 'BM27', 'BM28', 'BMmean_B', 'WAmean_B', 'MeanEd', 'HigherEd', 'HigherEd3', 'bm3_3', 'bm4_3', 'bm5_3', 'bm6_3', 'bm7_3', 'bm8_3', 'bm9_3', 'bm10_3', 'bm11_3', 'bm12_3', 'bm13_3', 'bm14_3', 'bm15_3', 'bm16_3', 'bm17_3', 'bm18_3', 'bm19_3', 'bm20_3', 'bm21_3', 'bm22_3', 'bm23_3', 'bm24_3', 'bm25_3', 'bm26_3', 'CCYYS', 'CURRGPA', 'NEXTGPA', 'NonpsychCurrGPA']\n"
     ]
    }
   ],
   "source": [
    "print(list(df))"
   ]
  },
  {
   "cell_type": "code",
   "execution_count": 85,
   "id": "ab9c84e9",
   "metadata": {
    "scrolled": false
   },
   "outputs": [
    {
     "name": "stdout",
     "output_type": "stream",
     "text": [
      "     Grades  Freq\n",
      "16   0.0000     7\n",
      "235  0.2000     1\n",
      "241  0.2775     1\n",
      "318  0.3131     1\n",
      "120  0.3333     1\n",
      "..      ...   ...\n",
      "22   3.9340     6\n",
      "543  3.9587     1\n",
      "228  3.9780     1\n",
      "231  3.9964     1\n",
      "0    4.0000    38\n",
      "\n",
      "[592 rows x 2 columns]\n"
     ]
    }
   ],
   "source": [
    "col = \"CURRGPA\"\n",
    "col_name = 'Grades' #<-edit this value! descriptive name for column\n",
    "freq = df[col].value_counts().rename_axis(col_name).reset_index(name='Freq')\n",
    "freq = freq.sort_values(by = col_name) #Use jf you want to order not by frequency but by letter (best results)\n",
    "print(freq)"
   ]
  },
  {
   "cell_type": "code",
   "execution_count": 86,
   "id": "272e0a88",
   "metadata": {},
   "outputs": [
    {
     "name": "stdout",
     "output_type": "stream",
     "text": [
      "Mean Current GPA: 2.9028740061162064\n",
      "Median Current GPA: 2.9028740061162064\n",
      "Standard Deviation of Current GPA: 0.7634066703359517\n"
     ]
    }
   ],
   "source": [
    "quant_col = \"CURRGPA\"\n",
    "\n",
    "mean = df[quant_col].mean()\n",
    "print(\"Mean Current GPA:\",mean)\n",
    "\n",
    "median = df[quant_col].median()\n",
    "print(\"Median Current GPA:\",mean)\n",
    "\n",
    "standard_deviation = df[quant_col].std()\n",
    "print(\"Standard Deviation of Current GPA:\",standard_deviation)"
   ]
  }
 ],
 "metadata": {
  "kernelspec": {
   "display_name": "Python 3 (ipykernel)",
   "language": "python",
   "name": "python3"
  },
  "language_info": {
   "codemirror_mode": {
    "name": "ipython",
    "version": 3
   },
   "file_extension": ".py",
   "mimetype": "text/x-python",
   "name": "python",
   "nbconvert_exporter": "python",
   "pygments_lexer": "ipython3",
   "version": "3.9.12"
  }
 },
 "nbformat": 4,
 "nbformat_minor": 5
}
